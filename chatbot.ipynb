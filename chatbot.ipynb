{
 "cells": [
  {
   "cell_type": "markdown",
   "id": "f248451f-81a6-4f65-bd31-a10dfc8d4e3b",
   "metadata": {},
   "source": [
    "# Movie Information ChatBot"
   ]
  },
  {
   "cell_type": "markdown",
   "id": "8dc85351-f3f4-44a7-9039-561a0051d78a",
   "metadata": {},
   "source": [
    "## Set-up environment"
   ]
  },
  {
   "cell_type": "code",
   "execution_count": 1,
   "id": "4dffa85b-d060-4dca-8107-ca0e1d3c90dd",
   "metadata": {},
   "outputs": [],
   "source": [
    "import os\n",
    "import pandas as pd"
   ]
  },
  {
   "cell_type": "code",
   "execution_count": 2,
   "id": "624bee04-6113-4689-bf6d-dbca01efd399",
   "metadata": {},
   "outputs": [],
   "source": [
    "import langdetect\n",
    "from langdetect import DetectorFactory, detect, detect_langs"
   ]
  },
  {
   "cell_type": "code",
   "execution_count": 3,
   "id": "b7fe5fde-f58c-4e90-a21b-99674a1be382",
   "metadata": {},
   "outputs": [],
   "source": [
    "from langchain.llms import Ollama\n",
    "from langchain.callbacks.manager import CallbackManager\n",
    "from langchain.callbacks.streaming_stdout import StreamingStdOutCallbackHandler\n",
    "from langchain.docstore.document import Document\n",
    "from langchain.text_splitter import RecursiveCharacterTextSplitter\n",
    "from langchain.vectorstores import Chroma\n",
    "from langchain.chains import ConversationalRetrievalChain\n",
    "from langchain.memory import ConversationBufferMemory\n",
    "from langchain.prompts import PromptTemplate"
   ]
  },
  {
   "cell_type": "code",
   "execution_count": 4,
   "id": "989fa266-e866-410d-b680-5f6ff5ad1e59",
   "metadata": {},
   "outputs": [],
   "source": [
    "# Embedding facilities\n",
    "from langchain.embeddings import HuggingFaceEmbeddings\n",
    "# Pipelines\n",
    "from langchain import HuggingFacePipeline\n",
    "from langchain.chains import RetrievalQA"
   ]
  },
  {
   "cell_type": "markdown",
   "id": "a299d02d-8e3d-4719-a484-17569e6bfb52",
   "metadata": {},
   "source": [
    "## Data Collection"
   ]
  },
  {
   "cell_type": "code",
   "execution_count": 5,
   "id": "a5fba999-fa2b-4137-a717-db36bbdc766b",
   "metadata": {},
   "outputs": [],
   "source": [
    "df = pd.read_csv('Data/title.basics.tsv', sep='\\t', low_memory=False)"
   ]
  },
  {
   "cell_type": "code",
   "execution_count": 6,
   "id": "1a6d4a9f-1d85-4ca6-a4d7-cec599441f62",
   "metadata": {},
   "outputs": [
    {
     "data": {
      "text/html": [
       "<div>\n",
       "<style scoped>\n",
       "    .dataframe tbody tr th:only-of-type {\n",
       "        vertical-align: middle;\n",
       "    }\n",
       "\n",
       "    .dataframe tbody tr th {\n",
       "        vertical-align: top;\n",
       "    }\n",
       "\n",
       "    .dataframe thead th {\n",
       "        text-align: right;\n",
       "    }\n",
       "</style>\n",
       "<table border=\"1\" class=\"dataframe\">\n",
       "  <thead>\n",
       "    <tr style=\"text-align: right;\">\n",
       "      <th></th>\n",
       "      <th>tconst</th>\n",
       "      <th>titleType</th>\n",
       "      <th>primaryTitle</th>\n",
       "      <th>originalTitle</th>\n",
       "      <th>isAdult</th>\n",
       "      <th>startYear</th>\n",
       "      <th>endYear</th>\n",
       "      <th>runtimeMinutes</th>\n",
       "      <th>genres</th>\n",
       "    </tr>\n",
       "  </thead>\n",
       "  <tbody>\n",
       "    <tr>\n",
       "      <th>0</th>\n",
       "      <td>tt0000001</td>\n",
       "      <td>short</td>\n",
       "      <td>Carmencita</td>\n",
       "      <td>Carmencita</td>\n",
       "      <td>0</td>\n",
       "      <td>1894</td>\n",
       "      <td>\\N</td>\n",
       "      <td>1</td>\n",
       "      <td>Documentary,Short</td>\n",
       "    </tr>\n",
       "    <tr>\n",
       "      <th>1</th>\n",
       "      <td>tt0000002</td>\n",
       "      <td>short</td>\n",
       "      <td>Le clown et ses chiens</td>\n",
       "      <td>Le clown et ses chiens</td>\n",
       "      <td>0</td>\n",
       "      <td>1892</td>\n",
       "      <td>\\N</td>\n",
       "      <td>5</td>\n",
       "      <td>Animation,Short</td>\n",
       "    </tr>\n",
       "    <tr>\n",
       "      <th>2</th>\n",
       "      <td>tt0000003</td>\n",
       "      <td>short</td>\n",
       "      <td>Pauvre Pierrot</td>\n",
       "      <td>Pauvre Pierrot</td>\n",
       "      <td>0</td>\n",
       "      <td>1892</td>\n",
       "      <td>\\N</td>\n",
       "      <td>5</td>\n",
       "      <td>Animation,Comedy,Romance</td>\n",
       "    </tr>\n",
       "    <tr>\n",
       "      <th>3</th>\n",
       "      <td>tt0000004</td>\n",
       "      <td>short</td>\n",
       "      <td>Un bon bock</td>\n",
       "      <td>Un bon bock</td>\n",
       "      <td>0</td>\n",
       "      <td>1892</td>\n",
       "      <td>\\N</td>\n",
       "      <td>12</td>\n",
       "      <td>Animation,Short</td>\n",
       "    </tr>\n",
       "    <tr>\n",
       "      <th>4</th>\n",
       "      <td>tt0000005</td>\n",
       "      <td>short</td>\n",
       "      <td>Blacksmith Scene</td>\n",
       "      <td>Blacksmith Scene</td>\n",
       "      <td>0</td>\n",
       "      <td>1893</td>\n",
       "      <td>\\N</td>\n",
       "      <td>1</td>\n",
       "      <td>Comedy,Short</td>\n",
       "    </tr>\n",
       "  </tbody>\n",
       "</table>\n",
       "</div>"
      ],
      "text/plain": [
       "      tconst titleType            primaryTitle           originalTitle  \\\n",
       "0  tt0000001     short              Carmencita              Carmencita   \n",
       "1  tt0000002     short  Le clown et ses chiens  Le clown et ses chiens   \n",
       "2  tt0000003     short          Pauvre Pierrot          Pauvre Pierrot   \n",
       "3  tt0000004     short             Un bon bock             Un bon bock   \n",
       "4  tt0000005     short        Blacksmith Scene        Blacksmith Scene   \n",
       "\n",
       "  isAdult startYear endYear runtimeMinutes                    genres  \n",
       "0       0      1894      \\N              1         Documentary,Short  \n",
       "1       0      1892      \\N              5           Animation,Short  \n",
       "2       0      1892      \\N              5  Animation,Comedy,Romance  \n",
       "3       0      1892      \\N             12           Animation,Short  \n",
       "4       0      1893      \\N              1              Comedy,Short  "
      ]
     },
     "execution_count": 6,
     "metadata": {},
     "output_type": "execute_result"
    }
   ],
   "source": [
    "df.head()"
   ]
  },
  {
   "cell_type": "code",
   "execution_count": 7,
   "id": "d0f8443e-34c2-4e4c-b83b-b1ae10755d34",
   "metadata": {},
   "outputs": [
    {
     "name": "stdout",
     "output_type": "stream",
     "text": [
      "<class 'pandas.core.frame.DataFrame'>\n",
      "RangeIndex: 10790736 entries, 0 to 10790735\n",
      "Data columns (total 9 columns):\n",
      " #   Column          Dtype \n",
      "---  ------          ----- \n",
      " 0   tconst          object\n",
      " 1   titleType       object\n",
      " 2   primaryTitle    object\n",
      " 3   originalTitle   object\n",
      " 4   isAdult         object\n",
      " 5   startYear       object\n",
      " 6   endYear         object\n",
      " 7   runtimeMinutes  object\n",
      " 8   genres          object\n",
      "dtypes: object(9)\n",
      "memory usage: 740.9+ MB\n"
     ]
    }
   ],
   "source": [
    "df.info()"
   ]
  },
  {
   "cell_type": "code",
   "execution_count": 8,
   "id": "ca436ac8-4a70-4d49-b324-244330819e20",
   "metadata": {},
   "outputs": [
    {
     "data": {
      "text/plain": [
       "array(['short', 'movie', 'tvShort', 'tvMovie', 'tvSeries', 'tvEpisode',\n",
       "       'tvMiniSeries', 'tvSpecial', 'video', 'videoGame', 'tvPilot'],\n",
       "      dtype=object)"
      ]
     },
     "execution_count": 8,
     "metadata": {},
     "output_type": "execute_result"
    }
   ],
   "source": [
    "df['titleType'].unique()"
   ]
  },
  {
   "cell_type": "code",
   "execution_count": 9,
   "id": "da12d79f-c159-4198-811a-3dca0ed543d9",
   "metadata": {},
   "outputs": [
    {
     "data": {
      "text/html": [
       "<div>\n",
       "<style scoped>\n",
       "    .dataframe tbody tr th:only-of-type {\n",
       "        vertical-align: middle;\n",
       "    }\n",
       "\n",
       "    .dataframe tbody tr th {\n",
       "        vertical-align: top;\n",
       "    }\n",
       "\n",
       "    .dataframe thead th {\n",
       "        text-align: right;\n",
       "    }\n",
       "</style>\n",
       "<table border=\"1\" class=\"dataframe\">\n",
       "  <thead>\n",
       "    <tr style=\"text-align: right;\">\n",
       "      <th></th>\n",
       "      <th>tconst</th>\n",
       "      <th>titleType</th>\n",
       "      <th>primaryTitle</th>\n",
       "      <th>originalTitle</th>\n",
       "      <th>isAdult</th>\n",
       "      <th>startYear</th>\n",
       "      <th>endYear</th>\n",
       "      <th>runtimeMinutes</th>\n",
       "      <th>genres</th>\n",
       "    </tr>\n",
       "  </thead>\n",
       "  <tbody>\n",
       "    <tr>\n",
       "      <th>0</th>\n",
       "      <td>tt0000001</td>\n",
       "      <td>short</td>\n",
       "      <td>Carmencita</td>\n",
       "      <td>Carmencita</td>\n",
       "      <td>0</td>\n",
       "      <td>1894</td>\n",
       "      <td>\\N</td>\n",
       "      <td>1</td>\n",
       "      <td>Documentary,Short</td>\n",
       "    </tr>\n",
       "    <tr>\n",
       "      <th>1</th>\n",
       "      <td>tt0000002</td>\n",
       "      <td>short</td>\n",
       "      <td>Le clown et ses chiens</td>\n",
       "      <td>Le clown et ses chiens</td>\n",
       "      <td>0</td>\n",
       "      <td>1892</td>\n",
       "      <td>\\N</td>\n",
       "      <td>5</td>\n",
       "      <td>Animation,Short</td>\n",
       "    </tr>\n",
       "    <tr>\n",
       "      <th>2</th>\n",
       "      <td>tt0000003</td>\n",
       "      <td>short</td>\n",
       "      <td>Pauvre Pierrot</td>\n",
       "      <td>Pauvre Pierrot</td>\n",
       "      <td>0</td>\n",
       "      <td>1892</td>\n",
       "      <td>\\N</td>\n",
       "      <td>5</td>\n",
       "      <td>Animation,Comedy,Romance</td>\n",
       "    </tr>\n",
       "    <tr>\n",
       "      <th>3</th>\n",
       "      <td>tt0000004</td>\n",
       "      <td>short</td>\n",
       "      <td>Un bon bock</td>\n",
       "      <td>Un bon bock</td>\n",
       "      <td>0</td>\n",
       "      <td>1892</td>\n",
       "      <td>\\N</td>\n",
       "      <td>12</td>\n",
       "      <td>Animation,Short</td>\n",
       "    </tr>\n",
       "    <tr>\n",
       "      <th>4</th>\n",
       "      <td>tt0000005</td>\n",
       "      <td>short</td>\n",
       "      <td>Blacksmith Scene</td>\n",
       "      <td>Blacksmith Scene</td>\n",
       "      <td>0</td>\n",
       "      <td>1893</td>\n",
       "      <td>\\N</td>\n",
       "      <td>1</td>\n",
       "      <td>Comedy,Short</td>\n",
       "    </tr>\n",
       "    <tr>\n",
       "      <th>...</th>\n",
       "      <td>...</td>\n",
       "      <td>...</td>\n",
       "      <td>...</td>\n",
       "      <td>...</td>\n",
       "      <td>...</td>\n",
       "      <td>...</td>\n",
       "      <td>...</td>\n",
       "      <td>...</td>\n",
       "      <td>...</td>\n",
       "    </tr>\n",
       "    <tr>\n",
       "      <th>10790676</th>\n",
       "      <td>tt9916730</td>\n",
       "      <td>movie</td>\n",
       "      <td>6 Gunn</td>\n",
       "      <td>6 Gunn</td>\n",
       "      <td>0</td>\n",
       "      <td>2017</td>\n",
       "      <td>\\N</td>\n",
       "      <td>116</td>\n",
       "      <td>Drama</td>\n",
       "    </tr>\n",
       "    <tr>\n",
       "      <th>10790686</th>\n",
       "      <td>tt9916754</td>\n",
       "      <td>movie</td>\n",
       "      <td>Chico Albuquerque - Revelações</td>\n",
       "      <td>Chico Albuquerque - Revelações</td>\n",
       "      <td>0</td>\n",
       "      <td>2013</td>\n",
       "      <td>\\N</td>\n",
       "      <td>49</td>\n",
       "      <td>Documentary</td>\n",
       "    </tr>\n",
       "    <tr>\n",
       "      <th>10790687</th>\n",
       "      <td>tt9916756</td>\n",
       "      <td>short</td>\n",
       "      <td>Pretty Pretty Black Girl</td>\n",
       "      <td>Pretty Pretty Black Girl</td>\n",
       "      <td>0</td>\n",
       "      <td>2019</td>\n",
       "      <td>\\N</td>\n",
       "      <td>\\N</td>\n",
       "      <td>Short</td>\n",
       "    </tr>\n",
       "    <tr>\n",
       "      <th>10790691</th>\n",
       "      <td>tt9916764</td>\n",
       "      <td>short</td>\n",
       "      <td>38</td>\n",
       "      <td>38</td>\n",
       "      <td>0</td>\n",
       "      <td>2018</td>\n",
       "      <td>\\N</td>\n",
       "      <td>\\N</td>\n",
       "      <td>Short</td>\n",
       "    </tr>\n",
       "    <tr>\n",
       "      <th>10790734</th>\n",
       "      <td>tt9916856</td>\n",
       "      <td>short</td>\n",
       "      <td>The Wind</td>\n",
       "      <td>The Wind</td>\n",
       "      <td>0</td>\n",
       "      <td>2015</td>\n",
       "      <td>\\N</td>\n",
       "      <td>27</td>\n",
       "      <td>Short</td>\n",
       "    </tr>\n",
       "  </tbody>\n",
       "</table>\n",
       "<p>1823040 rows × 9 columns</p>\n",
       "</div>"
      ],
      "text/plain": [
       "             tconst titleType                    primaryTitle  \\\n",
       "0         tt0000001     short                      Carmencita   \n",
       "1         tt0000002     short          Le clown et ses chiens   \n",
       "2         tt0000003     short                  Pauvre Pierrot   \n",
       "3         tt0000004     short                     Un bon bock   \n",
       "4         tt0000005     short                Blacksmith Scene   \n",
       "...             ...       ...                             ...   \n",
       "10790676  tt9916730     movie                          6 Gunn   \n",
       "10790686  tt9916754     movie  Chico Albuquerque - Revelações   \n",
       "10790687  tt9916756     short        Pretty Pretty Black Girl   \n",
       "10790691  tt9916764     short                              38   \n",
       "10790734  tt9916856     short                        The Wind   \n",
       "\n",
       "                           originalTitle isAdult startYear endYear  \\\n",
       "0                             Carmencita       0      1894      \\N   \n",
       "1                 Le clown et ses chiens       0      1892      \\N   \n",
       "2                         Pauvre Pierrot       0      1892      \\N   \n",
       "3                            Un bon bock       0      1892      \\N   \n",
       "4                       Blacksmith Scene       0      1893      \\N   \n",
       "...                                  ...     ...       ...     ...   \n",
       "10790676                          6 Gunn       0      2017      \\N   \n",
       "10790686  Chico Albuquerque - Revelações       0      2013      \\N   \n",
       "10790687        Pretty Pretty Black Girl       0      2019      \\N   \n",
       "10790691                              38       0      2018      \\N   \n",
       "10790734                        The Wind       0      2015      \\N   \n",
       "\n",
       "         runtimeMinutes                    genres  \n",
       "0                     1         Documentary,Short  \n",
       "1                     5           Animation,Short  \n",
       "2                     5  Animation,Comedy,Romance  \n",
       "3                    12           Animation,Short  \n",
       "4                     1              Comedy,Short  \n",
       "...                 ...                       ...  \n",
       "10790676            116                     Drama  \n",
       "10790686             49               Documentary  \n",
       "10790687             \\N                     Short  \n",
       "10790691             \\N                     Short  \n",
       "10790734             27                     Short  \n",
       "\n",
       "[1823040 rows x 9 columns]"
      ]
     },
     "execution_count": 9,
     "metadata": {},
     "output_type": "execute_result"
    }
   ],
   "source": [
    "movie_df = df[df['titleType'].isin(['short', 'movie', 'tvMovie'])]\n",
    "movie_df"
   ]
  },
  {
   "cell_type": "code",
   "execution_count": 10,
   "id": "50ad1249-b3b8-43dc-93be-4806efcaec1b",
   "metadata": {},
   "outputs": [
    {
     "data": {
      "text/html": [
       "<div>\n",
       "<style scoped>\n",
       "    .dataframe tbody tr th:only-of-type {\n",
       "        vertical-align: middle;\n",
       "    }\n",
       "\n",
       "    .dataframe tbody tr th {\n",
       "        vertical-align: top;\n",
       "    }\n",
       "\n",
       "    .dataframe thead th {\n",
       "        text-align: right;\n",
       "    }\n",
       "</style>\n",
       "<table border=\"1\" class=\"dataframe\">\n",
       "  <thead>\n",
       "    <tr style=\"text-align: right;\">\n",
       "      <th></th>\n",
       "      <th>originalTitle</th>\n",
       "    </tr>\n",
       "  </thead>\n",
       "  <tbody>\n",
       "    <tr>\n",
       "      <th>0</th>\n",
       "      <td>Carmencita</td>\n",
       "    </tr>\n",
       "    <tr>\n",
       "      <th>1</th>\n",
       "      <td>Le clown et ses chiens</td>\n",
       "    </tr>\n",
       "    <tr>\n",
       "      <th>2</th>\n",
       "      <td>Pauvre Pierrot</td>\n",
       "    </tr>\n",
       "    <tr>\n",
       "      <th>3</th>\n",
       "      <td>Un bon bock</td>\n",
       "    </tr>\n",
       "    <tr>\n",
       "      <th>4</th>\n",
       "      <td>Blacksmith Scene</td>\n",
       "    </tr>\n",
       "    <tr>\n",
       "      <th>...</th>\n",
       "      <td>...</td>\n",
       "    </tr>\n",
       "    <tr>\n",
       "      <th>10790676</th>\n",
       "      <td>6 Gunn</td>\n",
       "    </tr>\n",
       "    <tr>\n",
       "      <th>10790686</th>\n",
       "      <td>Chico Albuquerque - Revelações</td>\n",
       "    </tr>\n",
       "    <tr>\n",
       "      <th>10790687</th>\n",
       "      <td>Pretty Pretty Black Girl</td>\n",
       "    </tr>\n",
       "    <tr>\n",
       "      <th>10790691</th>\n",
       "      <td>38</td>\n",
       "    </tr>\n",
       "    <tr>\n",
       "      <th>10790734</th>\n",
       "      <td>The Wind</td>\n",
       "    </tr>\n",
       "  </tbody>\n",
       "</table>\n",
       "<p>1823040 rows × 1 columns</p>\n",
       "</div>"
      ],
      "text/plain": [
       "                           originalTitle\n",
       "0                             Carmencita\n",
       "1                 Le clown et ses chiens\n",
       "2                         Pauvre Pierrot\n",
       "3                            Un bon bock\n",
       "4                       Blacksmith Scene\n",
       "...                                  ...\n",
       "10790676                          6 Gunn\n",
       "10790686  Chico Albuquerque - Revelações\n",
       "10790687        Pretty Pretty Black Girl\n",
       "10790691                              38\n",
       "10790734                        The Wind\n",
       "\n",
       "[1823040 rows x 1 columns]"
      ]
     },
     "execution_count": 10,
     "metadata": {},
     "output_type": "execute_result"
    }
   ],
   "source": [
    "title_df = movie_df[['originalTitle']]\n",
    "title_df"
   ]
  },
  {
   "cell_type": "code",
   "execution_count": 11,
   "id": "8bebc192-0575-440e-a3ac-f58598188d9c",
   "metadata": {},
   "outputs": [
    {
     "data": {
      "text/plain": [
       "originalTitle    5\n",
       "dtype: int64"
      ]
     },
     "execution_count": 11,
     "metadata": {},
     "output_type": "execute_result"
    }
   ],
   "source": [
    "title_df.isnull().sum()"
   ]
  },
  {
   "cell_type": "code",
   "execution_count": 12,
   "id": "d8b351f6-5c0a-459e-af3d-f9185bd4877c",
   "metadata": {},
   "outputs": [],
   "source": [
    "title_df = title_df.dropna()"
   ]
  },
  {
   "cell_type": "code",
   "execution_count": 13,
   "id": "1cd1119f-5586-49de-8466-842a07ed0096",
   "metadata": {},
   "outputs": [
    {
     "name": "stdout",
     "output_type": "stream",
     "text": [
      "<class 'pandas.core.frame.DataFrame'>\n",
      "Index: 1823035 entries, 0 to 10790734\n",
      "Data columns (total 1 columns):\n",
      " #   Column         Dtype \n",
      "---  ------         ----- \n",
      " 0   originalTitle  object\n",
      "dtypes: object(1)\n",
      "memory usage: 27.8+ MB\n"
     ]
    }
   ],
   "source": [
    "title_df.info()"
   ]
  },
  {
   "cell_type": "code",
   "execution_count": 14,
   "id": "3b488477-fcbb-4488-a994-e411ed997233",
   "metadata": {},
   "outputs": [
    {
     "data": {
      "text/plain": [
       "originalTitle    0\n",
       "dtype: int64"
      ]
     },
     "execution_count": 14,
     "metadata": {},
     "output_type": "execute_result"
    }
   ],
   "source": [
    "title_df.isnull().sum()"
   ]
  },
  {
   "cell_type": "markdown",
   "id": "1a26e5eb-a318-4165-bd67-7059e3946d08",
   "metadata": {},
   "source": [
    "### Load Wikipedia"
   ]
  },
  {
   "cell_type": "code",
   "execution_count": 15,
   "id": "b9970ffb-5845-4aa3-a5de-572b87d0cabf",
   "metadata": {},
   "outputs": [],
   "source": [
    "import loadlib\n",
    "from loadlib import loadWiki"
   ]
  },
  {
   "cell_type": "code",
   "execution_count": 16,
   "id": "7790bb3b-3fb0-47c0-8e11-448197698040",
   "metadata": {},
   "outputs": [
    {
     "data": {
      "text/plain": [
       "<module 'loadlib' from '/Users/mariamcnally/Desktop/SW2Semester/AI/AI_exam/loadlib.py'>"
      ]
     },
     "execution_count": 16,
     "metadata": {},
     "output_type": "execute_result"
    }
   ],
   "source": [
    "import importlib \n",
    "importlib.reload(loadlib)"
   ]
  },
  {
   "cell_type": "code",
   "execution_count": 17,
   "id": "2dc6cfef-06fe-4499-b7ea-b337277ea150",
   "metadata": {},
   "outputs": [],
   "source": [
    "# Collect all here\n",
    "documents = []"
   ]
  },
  {
   "cell_type": "code",
   "execution_count": 18,
   "id": "ce8f0ee8-dd96-42f0-b151-f4a72b3e75a3",
   "metadata": {},
   "outputs": [],
   "source": [
    "subject = 'Film'"
   ]
  },
  {
   "cell_type": "code",
   "execution_count": 19,
   "id": "7f36d018-dbc8-43b0-9905-07ee5dea9822",
   "metadata": {},
   "outputs": [],
   "source": [
    "lang = 'en'"
   ]
  },
  {
   "cell_type": "code",
   "execution_count": 20,
   "id": "bf009dc7-cfe4-4fd2-af63-568f41891471",
   "metadata": {},
   "outputs": [],
   "source": [
    "docs = loadlib.loadWiki(subject, lang, 2)\n",
    "documents.extend(docs)"
   ]
  },
  {
   "cell_type": "code",
   "execution_count": 21,
   "id": "e3fd6f24-3b58-4e3f-bd9f-fc85cbe1b75f",
   "metadata": {},
   "outputs": [],
   "source": [
    "from tqdm import tqdm"
   ]
  },
  {
   "cell_type": "code",
   "execution_count": 22,
   "id": "632be77d-a410-43d5-afdc-f0c12b6b6530",
   "metadata": {},
   "outputs": [],
   "source": [
    "titles_to_process = title_df['originalTitle'].iloc[:1000]"
   ]
  },
  {
   "cell_type": "code",
   "execution_count": 23,
   "id": "22d62b0b-c715-49a6-afd9-de28e8e290b7",
   "metadata": {},
   "outputs": [
    {
     "name": "stderr",
     "output_type": "stream",
     "text": [
      "Processing titles: 100%|████████████████████████| 10/10 [00:28<00:00,  2.82s/it]\n"
     ]
    }
   ],
   "source": [
    "for title in tqdm(titles_to_process, desc=\"Processing titles\"):\n",
    "    docs = loadlib.loadWiki(title, lang, 2)\n",
    "    documents.extend(docs)"
   ]
  },
  {
   "cell_type": "code",
   "execution_count": 24,
   "id": "00370805-188c-4755-91b2-44a150e1e84a",
   "metadata": {},
   "outputs": [
    {
     "data": {
      "text/plain": [
       "22"
      ]
     },
     "execution_count": 24,
     "metadata": {},
     "output_type": "execute_result"
    }
   ],
   "source": [
    "len(documents)"
   ]
  },
  {
   "cell_type": "markdown",
   "id": "98df90de-4e06-40a7-a7e9-82e84c549410",
   "metadata": {},
   "source": [
    "## Chunking"
   ]
  },
  {
   "cell_type": "code",
   "execution_count": 25,
   "id": "13661128-aa09-4a9f-892f-a83ddc57946d",
   "metadata": {},
   "outputs": [],
   "source": [
    "import utils\n",
    "from utils import chunkDocs, langDetect, wordCloud"
   ]
  },
  {
   "cell_type": "code",
   "execution_count": 26,
   "id": "c834d7db-f7c0-4926-86aa-ea51e1c10de1",
   "metadata": {},
   "outputs": [
    {
     "data": {
      "text/plain": [
       "<module 'utils' from '/Users/mariamcnally/Desktop/SW2Semester/AI/AI_exam/utils.py'>"
      ]
     },
     "execution_count": 26,
     "metadata": {},
     "output_type": "execute_result"
    }
   ],
   "source": [
    "import importlib \n",
    "importlib.reload(utils)"
   ]
  },
  {
   "cell_type": "code",
   "execution_count": 27,
   "id": "23a57c8b-58bb-48d3-967a-de55ca2c811c",
   "metadata": {},
   "outputs": [],
   "source": [
    "splits = utils.chunkDocs(documents, 350)  "
   ]
  },
  {
   "cell_type": "code",
   "execution_count": 28,
   "id": "0cc06588-d668-4727-be79-d00f5fdb1334",
   "metadata": {},
   "outputs": [
    {
     "data": {
      "text/plain": [
       "284"
      ]
     },
     "execution_count": 28,
     "metadata": {},
     "output_type": "execute_result"
    }
   ],
   "source": [
    "len(splits)"
   ]
  },
  {
   "cell_type": "code",
   "execution_count": 29,
   "id": "4af881e4-3979-4739-884d-c0be0431982c",
   "metadata": {},
   "outputs": [],
   "source": [
    "split_df = pd.DataFrame(splits, columns=['page_content', 'metadata', 'type'])"
   ]
  },
  {
   "cell_type": "code",
   "execution_count": 30,
   "id": "2917ee88-2b79-4b1d-a69a-6cad1520631e",
   "metadata": {},
   "outputs": [
    {
     "data": {
      "text/html": [
       "<div>\n",
       "<style scoped>\n",
       "    .dataframe tbody tr th:only-of-type {\n",
       "        vertical-align: middle;\n",
       "    }\n",
       "\n",
       "    .dataframe tbody tr th {\n",
       "        vertical-align: top;\n",
       "    }\n",
       "\n",
       "    .dataframe thead th {\n",
       "        text-align: right;\n",
       "    }\n",
       "</style>\n",
       "<table border=\"1\" class=\"dataframe\">\n",
       "  <thead>\n",
       "    <tr style=\"text-align: right;\">\n",
       "      <th></th>\n",
       "      <th>page_content</th>\n",
       "      <th>metadata</th>\n",
       "      <th>type</th>\n",
       "    </tr>\n",
       "  </thead>\n",
       "  <tbody>\n",
       "    <tr>\n",
       "      <th>283</th>\n",
       "      <td>(page_content, Le Débarquement du congrès de p...</td>\n",
       "      <td>(metadata, {'title': 'Auguste and Louis Lumièr...</td>\n",
       "      <td>(type, Document)</td>\n",
       "    </tr>\n",
       "    <tr>\n",
       "      <th>220</th>\n",
       "      <td>(page_content, example of a feature-length dra...</td>\n",
       "      <td>(metadata, {'title': 'Miss Jerry', 'summary': ...</td>\n",
       "      <td>(type, Document)</td>\n",
       "    </tr>\n",
       "    <tr>\n",
       "      <th>30</th>\n",
       "      <td>(page_content, Bea that her father will be all...</td>\n",
       "      <td>(metadata, {'title': 'IF (film)', 'summary': '...</td>\n",
       "      <td>(type, Document)</td>\n",
       "    </tr>\n",
       "  </tbody>\n",
       "</table>\n",
       "</div>"
      ],
      "text/plain": [
       "                                          page_content  \\\n",
       "283  (page_content, Le Débarquement du congrès de p...   \n",
       "220  (page_content, example of a feature-length dra...   \n",
       "30   (page_content, Bea that her father will be all...   \n",
       "\n",
       "                                              metadata              type  \n",
       "283  (metadata, {'title': 'Auguste and Louis Lumièr...  (type, Document)  \n",
       "220  (metadata, {'title': 'Miss Jerry', 'summary': ...  (type, Document)  \n",
       "30   (metadata, {'title': 'IF (film)', 'summary': '...  (type, Document)  "
      ]
     },
     "execution_count": 30,
     "metadata": {},
     "output_type": "execute_result"
    }
   ],
   "source": [
    "split_df.sample(3)"
   ]
  },
  {
   "cell_type": "markdown",
   "id": "99d7a1d3-9347-4d7a-abc1-6dec51cc6f95",
   "metadata": {},
   "source": [
    "## Data Visualisation"
   ]
  },
  {
   "cell_type": "code",
   "execution_count": 31,
   "id": "8ea5daf4-90ee-4b79-a7c1-10b1660e4402",
   "metadata": {},
   "outputs": [],
   "source": [
    "im, longstring = utils.wordCloud(split_df, 'page_content')"
   ]
  },
  {
   "cell_type": "code",
   "execution_count": 32,
   "id": "0463f4e9-ba0b-4941-a783-20e09c34fde4",
   "metadata": {},
   "outputs": [
    {
     "data": {
      "image/jpeg": "[encoded data removed]",
      "image/png": "[encoded data removed]",
      "text/plain": [
       "<PIL.Image.Image image mode=RGB size=400x200>"
      ]
     },
     "execution_count": 32,
     "metadata": {},
     "output_type": "execute_result"
    }
   ],
   "source": [
    "im"
   ]
  },
  {
   "cell_type": "markdown",
   "id": "3d496bc6-544c-41ac-88c7-f195870984fd",
   "metadata": {},
   "source": [
    "## Embeddings"
   ]
  },
  {
   "cell_type": "code",
   "execution_count": 33,
   "id": "772d0088-aaba-4824-93cf-52f0209d3e47",
   "metadata": {},
   "outputs": [],
   "source": [
    "model_name = \"sentence-transformers/all-mpnet-base-v2\"\n",
    "model_kwargs = {'device': 'cpu'}\n",
    "encode_kwargs = {'normalize_embeddings': False}"
   ]
  },
  {
   "cell_type": "code",
   "execution_count": 34,
   "id": "6df2856b-ed16-425d-929c-bd5ae08545ea",
   "metadata": {},
   "outputs": [
    {
     "name": "stderr",
     "output_type": "stream",
     "text": [
      "/Library/Frameworks/Python.framework/Versions/3.12/lib/python3.12/site-packages/huggingface_hub/file_download.py:1132: FutureWarning: `resume_download` is deprecated and will be removed in version 1.0.0. Downloads always resume when possible. If you want to force a new download, use `force_download=True`.\n",
      "  warnings.warn(\n",
      "/Library/Frameworks/Python.framework/Versions/3.12/lib/python3.12/site-packages/huggingface_hub/file_download.py:1132: FutureWarning: `resume_download` is deprecated and will be removed in version 1.0.0. Downloads always resume when possible. If you want to force a new download, use `force_download=True`.\n",
      "  warnings.warn(\n"
     ]
    }
   ],
   "source": [
    "embeddings = HuggingFaceEmbeddings(\n",
    "    model_name=model_name,\n",
    "    model_kwargs=model_kwargs,\n",
    "    encode_kwargs=encode_kwargs\n",
    ")"
   ]
  },
  {
   "cell_type": "markdown",
   "id": "8d6d365e-d636-46d0-acc3-d1479eb3e66e",
   "metadata": {},
   "source": [
    "### Storing the embeddings in vector database"
   ]
  },
  {
   "cell_type": "code",
   "execution_count": 35,
   "id": "63d6ee5f-1724-4ae0-948d-060b2d96c2d4",
   "metadata": {},
   "outputs": [],
   "source": [
    "#!pip install chromadb"
   ]
  },
  {
   "cell_type": "code",
   "execution_count": 36,
   "id": "e679a1d1-fd70-467d-a3e0-d468b5786e3d",
   "metadata": {},
   "outputs": [],
   "source": [
    "db = Chroma.from_documents(splits, embeddings)"
   ]
  },
  {
   "cell_type": "code",
   "execution_count": 37,
   "id": "de94c065-382b-480d-bf74-0453d8a9cb04",
   "metadata": {},
   "outputs": [],
   "source": [
    "persist_directory = './examData/chroma/'\n",
    "\n",
    "# Create the vector store\n",
    "vectordb = Chroma.from_documents(\n",
    "    documents=splits,\n",
    "    embedding=embeddings,\n",
    "    persist_directory=persist_directory\n",
    ")\n",
    "vectordb.persist()"
   ]
  },
  {
   "cell_type": "code",
   "execution_count": 38,
   "id": "89bae636-8833-4e3a-91a6-89501ffa0eaf",
   "metadata": {},
   "outputs": [
    {
     "data": {
      "text/plain": [
       "41091"
      ]
     },
     "execution_count": 38,
     "metadata": {},
     "output_type": "execute_result"
    }
   ],
   "source": [
    "vectordb._collection.count()"
   ]
  },
  {
   "cell_type": "markdown",
   "id": "17ca0496-a8bd-4474-a7aa-beaf13f7b933",
   "metadata": {},
   "source": [
    "## Similarity Search"
   ]
  },
  {
   "cell_type": "code",
   "execution_count": 39,
   "id": "75f42979-da7a-4914-8e53-729a10c8fef8",
   "metadata": {},
   "outputs": [],
   "source": [
    "query = 'what is a movie?'"
   ]
  },
  {
   "cell_type": "code",
   "execution_count": 40,
   "id": "5cd89994-0d33-428c-a450-87863dfb9808",
   "metadata": {},
   "outputs": [
    {
     "name": "stdout",
     "output_type": "stream",
     "text": [
      "A film (British English) – also called a movie (American English), motion picture, moving picture, picture, photoplay or (slang) flick – is a work of visual art that simulates experiences and otherwise communicates ideas, stories, perceptions, feelings, beauty, or atmosphere through the use of moving images. These images are generally accompanied\n",
      "by sound and, more rarely, other sensory stimulations. The word \"cinema\", short for cinematography, is often used to refer to filmmaking and the film industry, and the art form that is the result of it.\n",
      "Many other terms exist for an individual motion-picture, including \"picture\", \"picture show\", \"moving picture\", \"photoplay\", and \"flick\". The most common term in the United States is \"movie\", while in Europe, \"film\" is preferred. Archaic terms include \"animated pictures\" and \"animated photography\".\n"
     ]
    }
   ],
   "source": [
    "answer = vectordb.similarity_search(query, k=3)\n",
    "for d in answer:\n",
    "    print(d.page_content)"
   ]
  },
  {
   "cell_type": "code",
   "execution_count": 41,
   "id": "f89d4635-d602-4788-a719-3e9222fc03ed",
   "metadata": {},
   "outputs": [
    {
     "name": "stdout",
     "output_type": "stream",
     "text": [
      "{'source': 'https://en.wikipedia.org/wiki/Film', 'summary': 'A film (British English) – also called a movie (American English), motion picture, moving picture, picture, photoplay or (slang) flick – is a work of visual art that simulates experiences and otherwise communicates ideas, stories, perceptions, feelings, beauty, or atmosphere through the use of moving images. These images are generally accompanied by sound and, more rarely, other sensory stimulations. The word \"cinema\", short for cinematography, is often used to refer to filmmaking and the film industry, and the art form that is the result of it.', 'title': 'Film'}\n",
      "{'source': 'https://en.wikipedia.org/wiki/Film', 'summary': 'A film (British English) – also called a movie (American English), motion picture, moving picture, picture, photoplay or (slang) flick – is a work of visual art that simulates experiences and otherwise communicates ideas, stories, perceptions, feelings, beauty, or atmosphere through the use of moving images. These images are generally accompanied by sound and, more rarely, other sensory stimulations. The word \"cinema\", short for cinematography, is often used to refer to filmmaking and the film industry, and the art form that is the result of it.', 'title': 'Film'}\n",
      "{'source': 'https://en.wikipedia.org/wiki/Film', 'summary': 'A film (British English) – also called a movie (American English), motion picture, moving picture, picture, photoplay or (slang) flick – is a work of visual art that simulates experiences and otherwise communicates ideas, stories, perceptions, feelings, beauty, or atmosphere through the use of moving images. These images are generally accompanied by sound and, more rarely, other sensory stimulations. The word \"cinema\", short for cinematography, is often used to refer to filmmaking and the film industry, and the art form that is the result of it.', 'title': 'Film'}\n"
     ]
    }
   ],
   "source": [
    "for d in answer:\n",
    "    print(d.metadata)"
   ]
  },
  {
   "cell_type": "markdown",
   "id": "a08d99a9-eb7f-4591-af4e-e7cbf28a48c7",
   "metadata": {},
   "source": [
    "## Information Retrieval"
   ]
  },
  {
   "cell_type": "code",
   "execution_count": 42,
   "id": "c70a12e3-190f-406a-9527-4f7f410e365d",
   "metadata": {},
   "outputs": [],
   "source": [
    "q1 = 'What is the first ever film?'"
   ]
  },
  {
   "cell_type": "code",
   "execution_count": 43,
   "id": "619ba4a7-e1da-4d44-8e00-1872d01fb17b",
   "metadata": {},
   "outputs": [],
   "source": [
    "q2 = 'What is the worlds best movie?'"
   ]
  },
  {
   "cell_type": "code",
   "execution_count": 44,
   "id": "00cb6ff3-d7b6-4f7a-9d6f-0de86953f450",
   "metadata": {},
   "outputs": [],
   "source": [
    "q3 = 'Who directed the film Carmencita?'"
   ]
  },
  {
   "cell_type": "code",
   "execution_count": 45,
   "id": "a51e8945-cb1a-45aa-b5cf-7e734c3831f2",
   "metadata": {},
   "outputs": [],
   "source": [
    "q4 = 'Which movies has Charlie Chaplin stared in?'"
   ]
  },
  {
   "cell_type": "code",
   "execution_count": 46,
   "id": "eaa4a25c-74bb-45d1-a379-ee8dce2d0e5b",
   "metadata": {},
   "outputs": [
    {
     "name": "stdout",
     "output_type": "stream",
     "text": [
      "1887 – Man Walking Around a Corner, directed by French inventor Louis Le Prince. The oldest known film. Although according to David Wilkinson's 2015 documentary The First Film it's not film, but a series of photographs, 16 in all, each taken from one of the lens from Le Prince's camera. Pictures from the film were sent in a letter dated 18 August\n",
      "== Critical analysis ==\n",
      "John Barnes has written that \"this could be considered as the first modern film\", describing it as \"far ahead of its time as regards film technique\".\n",
      "\n",
      "\n",
      "== References ==\n",
      "Citations\n"
     ]
    }
   ],
   "source": [
    "answer = vectordb.max_marginal_relevance_search(q1, k=2, fetch_k=5)\n",
    "for d in answer:\n",
    "    print(d.page_content)"
   ]
  },
  {
   "cell_type": "code",
   "execution_count": 47,
   "id": "e0d3cdfa-51c8-414a-9572-9a94249ffaf4",
   "metadata": {},
   "outputs": [
    {
     "name": "stdout",
     "output_type": "stream",
     "text": [
      "American Movies.\n",
      "The film holds the rare distinction of being among the 19th century films voted for in the British Film Institute's decennial Sight & Sound poll: director Patrick Keiller ranked it one of the 10 greatest motion pictures ever made.\n"
     ]
    }
   ],
   "source": [
    "answer = vectordb.max_marginal_relevance_search(q2, k=2, fetch_k=5)\n",
    "for d in answer:\n",
    "    print(d.page_content)"
   ]
  },
  {
   "cell_type": "code",
   "execution_count": 48,
   "id": "308fce11-d6f3-4c74-bce7-20a41a2fd986",
   "metadata": {},
   "outputs": [
    {
     "name": "stdout",
     "output_type": "stream",
     "text": [
      "According to film historian Charles Musser, Carmencita was the first woman to appear in a modern motion picture made for commercial purposes and may have been the first woman to appear in a motion picture within the United States. In the film she is recorded going through a routine she had been performing at Koster and Bial's Music Hall in New\n",
      "pseudo-documentary Las Hurdes: Tierra Sin Pan (1933). In 1933 it was responsible for filming seventeen motion pictures and in 1934, twenty-one. The most notable success was Paloma Fair (Benito Perojo, 1935). They were also responsible for Don Quijote de la Mancha (Rafael Gil, 1947), the most elaborate version of the Cervantes classic up to that\n"
     ]
    }
   ],
   "source": [
    "answer = vectordb.max_marginal_relevance_search(q3, k=2, fetch_k=5)\n",
    "for d in answer:\n",
    "    print(d.page_content)"
   ]
  },
  {
   "cell_type": "code",
   "execution_count": 49,
   "id": "0edd3a10-af0c-411d-bd70-5720d305d2e7",
   "metadata": {},
   "outputs": [
    {
     "name": "stdout",
     "output_type": "stream",
     "text": [
      "Arbuckle, Charlie Chaplin, Mary Astor and Pola Negri, but no footage exists.\n",
      "Arbuckle, Charlie Chaplin, Mary Astor and Pola Negri, but no footage exists.\n"
     ]
    }
   ],
   "source": [
    "answer = vectordb.max_marginal_relevance_search(q4, k=2, fetch_k=5)\n",
    "for d in answer:\n",
    "    print(d.page_content)"
   ]
  },
  {
   "cell_type": "markdown",
   "id": "1d89418c-09a8-4f05-bdb8-c1d28829187c",
   "metadata": {},
   "source": [
    "## Large Language Model"
   ]
  },
  {
   "cell_type": "code",
   "execution_count": 50,
   "id": "9e6231c4-8a67-4d74-9153-99c1a37eadde",
   "metadata": {},
   "outputs": [],
   "source": [
    "# Disable parallelism for tokenizers\n",
    "os.environ[\"TOKENIZERS_PARALLELISM\"] = \"false\""
   ]
  },
  {
   "cell_type": "code",
   "execution_count": 51,
   "id": "b7ed5205-74b1-4b39-8274-c03602ea04ae",
   "metadata": {},
   "outputs": [],
   "source": [
    "llm = Ollama(model=\"mistral\", callback_manager = CallbackManager([StreamingStdOutCallbackHandler()]))"
   ]
  },
  {
   "cell_type": "code",
   "execution_count": 52,
   "id": "b6c74b26-2008-4ec6-979e-88aeb8a70a7e",
   "metadata": {},
   "outputs": [
    {
     "name": "stdout",
     "output_type": "stream",
     "text": [
      "NAME          \tID          \tSIZE  \tMODIFIED           \n",
      "mistral:latest\t2ae6f6dd7a3d\t4.1 GB\tAbout a minute ago\t\n"
     ]
    }
   ],
   "source": [
    "!ollama list"
   ]
  },
  {
   "cell_type": "code",
   "execution_count": 53,
   "id": "3bd60fc0-7a8f-4501-8bf3-939f4a9b4c3b",
   "metadata": {},
   "outputs": [],
   "source": [
    "# Build prompt\n",
    "template = \"\"\"Use the following pieces of context to answer the question at the end. \n",
    "If you don't know the answer, just say that you don't know, don't try to make up an answer. \n",
    "Use five sentences maximum. Keep the answer as concise as possible. \n",
    "Always say \"thanks for asking!\" at the end of the answer. \n",
    "\n",
    "{context}\n",
    "\n",
    "Question: {question}\n",
    "\n",
    "Helpful Answer:\n",
    "\"\"\""
   ]
  },
  {
   "cell_type": "code",
   "execution_count": 54,
   "id": "8bf2b978-33df-4abb-900e-8ce01c03c344",
   "metadata": {},
   "outputs": [],
   "source": [
    "prompt = PromptTemplate.from_template(template)\n",
    "chain = RetrievalQA.from_chain_type(\n",
    "    llm,\n",
    "    retriever=vectordb.as_retriever(),\n",
    "    return_source_documents=True,\n",
    "    chain_type_kwargs={\"prompt\": prompt})"
   ]
  },
  {
   "cell_type": "code",
   "execution_count": 55,
   "id": "83aa0e76-0f37-4976-b465-3a22b1809fbe",
   "metadata": {},
   "outputs": [
    {
     "name": "stderr",
     "output_type": "stream",
     "text": [
      "/Library/Frameworks/Python.framework/Versions/3.12/lib/python3.12/site-packages/langchain_core/_api/deprecation.py:117: LangChainDeprecationWarning: The function `__call__` was deprecated in LangChain 0.1.0 and will be removed in 0.2.0. Use invoke instead.\n",
      "  warn_deprecated(\n"
     ]
    },
    {
     "name": "stdout",
     "output_type": "stream",
     "text": [
      " The first ever film was created by Frenchman Émile Reynaud with his Praxinoscope device, which he used to project animated films up to 16 frames long on October 28, 1892, at Musée Grévin in Paris, France. However, the oldest known moving image is \"Man Walking Around a Corner\" (1887) by Louis Le Prince, which was not actually film but a series of photographs. Thanks for asking!"
     ]
    },
    {
     "data": {
      "text/plain": [
       "' The first ever film was created by Frenchman Émile Reynaud with his Praxinoscope device, which he used to project animated films up to 16 frames long on October 28, 1892, at Musée Grévin in Paris, France. However, the oldest known moving image is \"Man Walking Around a Corner\" (1887) by Louis Le Prince, which was not actually film but a series of photographs. Thanks for asking!'"
      ]
     },
     "execution_count": 55,
     "metadata": {},
     "output_type": "execute_result"
    }
   ],
   "source": [
    "result1 = chain({\"query\": q1})\n",
    "result1[\"result\"]"
   ]
  },
  {
   "cell_type": "code",
   "execution_count": 56,
   "id": "03a8cd79-dd94-4c3f-8ffd-7d3a4c7aafc1",
   "metadata": {},
   "outputs": [
    {
     "name": "stdout",
     "output_type": "stream",
     "text": [
      " The question asks for \"the world's best movie,\" which is subjective as movie preferences vary greatly among people. However, considering your context, the film you described, often referred to as \"The Film,\" holds significant importance in the history of cinema and was ranked one of the 10 greatest motion pictures ever made by director Patrick Keiller. But it's important to note that other influential figures might rank different films higher. Thanks for asking!"
     ]
    },
    {
     "data": {
      "text/plain": [
       "' The question asks for \"the world\\'s best movie,\" which is subjective as movie preferences vary greatly among people. However, considering your context, the film you described, often referred to as \"The Film,\" holds significant importance in the history of cinema and was ranked one of the 10 greatest motion pictures ever made by director Patrick Keiller. But it\\'s important to note that other influential figures might rank different films higher. Thanks for asking!'"
      ]
     },
     "execution_count": 56,
     "metadata": {},
     "output_type": "execute_result"
    }
   ],
   "source": [
    "result2 = chain({\"query\": q2})\n",
    "result2[\"result\"]"
   ]
  },
  {
   "cell_type": "code",
   "execution_count": 57,
   "id": "c55d594e-7676-486d-803a-1910acf56454",
   "metadata": {},
   "outputs": [
    {
     "name": "stdout",
     "output_type": "stream",
     "text": [
      " The film featuring Carmencita, referred to as your context suggests, wasn't specified to have a director in the provided information. However, it was based on her dance routine from Koster and Bial's Music Hall performance of \"Carmen\" under La Argentina's guidance."
     ]
    },
    {
     "data": {
      "text/plain": [
       "' The film featuring Carmencita, referred to as your context suggests, wasn\\'t specified to have a director in the provided information. However, it was based on her dance routine from Koster and Bial\\'s Music Hall performance of \"Carmen\" under La Argentina\\'s guidance.'"
      ]
     },
     "execution_count": 57,
     "metadata": {},
     "output_type": "execute_result"
    }
   ],
   "source": [
    "result3 = chain({\"query\": q3})\n",
    "result3[\"result\"]"
   ]
  },
  {
   "cell_type": "code",
   "execution_count": 58,
   "id": "778127ea-7842-44f1-a5b8-6e2db1baefef",
   "metadata": {},
   "outputs": [
    {
     "name": "stdout",
     "output_type": "stream",
     "text": [
      " Charlie Chaplin starred in many films throughout his career, including \"The Kid\" (1921), \"The Gold Rush\" (1925), and \"City Lights\" (1931). However, the specific movie where he co-starred with Arbuckle, Mary Astor, and Pola Negri remains unknown as no footage from that film exists. Thanks for asking!"
     ]
    },
    {
     "data": {
      "text/plain": [
       "' Charlie Chaplin starred in many films throughout his career, including \"The Kid\" (1921), \"The Gold Rush\" (1925), and \"City Lights\" (1931). However, the specific movie where he co-starred with Arbuckle, Mary Astor, and Pola Negri remains unknown as no footage from that film exists. Thanks for asking!'"
      ]
     },
     "execution_count": 58,
     "metadata": {},
     "output_type": "execute_result"
    }
   ],
   "source": [
    "result4 = chain({\"query\": q4})\n",
    "result4[\"result\"]"
   ]
  },
  {
   "cell_type": "code",
   "execution_count": null,
   "id": "6073b0b7-08dd-4646-ade8-2b7d850ad9a5",
   "metadata": {},
   "outputs": [],
   "source": []
  },
  {
   "cell_type": "code",
   "execution_count": null,
   "id": "b5b5d228-6498-4fea-b70e-508242529ffa",
   "metadata": {},
   "outputs": [],
   "source": []
  },
  {
   "cell_type": "code",
   "execution_count": null,
   "id": "fdda2399-6e84-49ef-a140-b8f5b2bb3f2b",
   "metadata": {},
   "outputs": [],
   "source": []
  },
  {
   "cell_type": "code",
   "execution_count": null,
   "id": "55c65e82-1e46-4c6d-b5f0-7c993b46b4f7",
   "metadata": {},
   "outputs": [],
   "source": []
  },
  {
   "cell_type": "code",
   "execution_count": 59,
   "id": "962534c1-92b4-4246-b83e-00d2d871aa96",
   "metadata": {},
   "outputs": [],
   "source": [
    "import pickle"
   ]
  },
  {
   "cell_type": "code",
   "execution_count": 60,
   "id": "8ce12d4c-3caa-4cd5-9a94-53aa95445252",
   "metadata": {},
   "outputs": [],
   "source": [
    "# Save the model using pickle (optional)\n",
    "pickle_file = \"chatbot_model.pkl\"\n",
    "with open(pickle_file, 'wb') as file:\n",
    "    pickle.dump(llm, file)"
   ]
  },
  {
   "cell_type": "raw",
   "id": "5ccba0ee-f3ec-435b-bf69-ff7889e2983f",
   "metadata": {},
   "source": [
    "# Load the model using pickle (optional)\n",
    "with open(pickle_file, 'rb') as file:\n",
    "    loaded_chain_pickle = pickle.load(file)"
   ]
  }
 ],
 "metadata": {
  "kernelspec": {
   "display_name": "Python 3 (ipykernel)",
   "language": "python",
   "name": "python3"
  },
  "language_info": {
   "codemirror_mode": {
    "name": "ipython",
    "version": 3
   },
   "file_extension": ".py",
   "mimetype": "text/x-python",
   "name": "python",
   "nbconvert_exporter": "python",
   "pygments_lexer": "ipython3",
   "version": "3.12.1"
  }
 },
 "nbformat": 4,
 "nbformat_minor": 5
}
